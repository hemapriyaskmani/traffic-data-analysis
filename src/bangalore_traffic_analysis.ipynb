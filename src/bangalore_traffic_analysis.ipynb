{
 "cells": [
  {
   "cell_type": "code",
   "execution_count": 4,
   "id": "68b23634-3985-4a9d-84fe-7b7ea2c35496",
   "metadata": {},
   "outputs": [],
   "source": [
    "import pandas as pd"
   ]
  },
  {
   "cell_type": "code",
   "execution_count": 40,
   "id": "17e1a146-2e64-4f38-a367-8bf017fca0d0",
   "metadata": {},
   "outputs": [],
   "source": [
    "from pathlib import Path\n",
    "file_path = Path('resources') / 'Banglore_traffic_Dataset.csv'"
   ]
  },
  {
   "cell_type": "code",
   "execution_count": 41,
   "id": "8ace3242-0766-4ca7-b4d6-0ef51d2bcccf",
   "metadata": {},
   "outputs": [],
   "source": [
    "df = pd.read_csv(file_path)"
   ]
  },
  {
   "cell_type": "code",
   "execution_count": null,
   "id": "01681baf-dba6-4e3d-be74-0720b468dda8",
   "metadata": {
    "scrolled": true
   },
   "outputs": [],
   "source": [
    "print(df.info())"
   ]
  },
  {
   "cell_type": "code",
   "execution_count": null,
   "id": "d72ffc4d-7ef5-44e1-ac1c-451df11f1b85",
   "metadata": {
    "scrolled": true
   },
   "outputs": [],
   "source": [
    "print(df.tail())"
   ]
  },
  {
   "cell_type": "code",
   "execution_count": 15,
   "id": "1295f762-93ee-46ef-90db-37f970672b79",
   "metadata": {},
   "outputs": [],
   "source": [
    "df = pd.read_csv(file_path)\n",
    "\n",
    "df['Date'] = pd.to_datetime(df['Date'])\n",
    "\n",
    "df['hour']= df['Date'].dt.hour\n",
    "\n",
    "df['weekday']= df['Date'].dt.weekday\n",
    "\n",
    "df['month']= df['Date'].dt.month"
   ]
  },
  {
   "cell_type": "code",
   "execution_count": null,
   "id": "eece67de-00e1-4eff-a84f-fdd89a824af0",
   "metadata": {
    "scrolled": true
   },
   "outputs": [],
   "source": [
    "print(df.head())"
   ]
  },
  {
   "cell_type": "code",
   "execution_count": 24,
   "id": "fd074493-b400-4473-86be-d21b4e0b68e8",
   "metadata": {},
   "outputs": [],
   "source": [
    "from pathlib import Path\n",
    "file_path = Path('resources') / 'my_updated_traffic_data_hour.csv'"
   ]
  },
  {
   "cell_type": "code",
   "execution_count": 25,
   "id": "30fd1c46-5c71-447f-b47b-0f35d6bbb126",
   "metadata": {
    "scrolled": true
   },
   "outputs": [],
   "source": [
    "import matplotlib.pyplot as plt "
   ]
  },
  {
   "cell_type": "code",
   "execution_count": null,
   "id": "130769c8-106f-47d5-83f7-8b7d01072686",
   "metadata": {},
   "outputs": [],
   "source": [
    "traffic_by_hour = df.groupby('hour')['Traffic Volume'].mean()\n",
    "\n",
    "plt.figure(figsize=(8,6))\n",
    "\n",
    "plt.plot(traffic_by_hour.index, traffic_by_hour.values, marker='o')\n",
    "plt.show()"
   ]
  },
  {
   "cell_type": "code",
   "execution_count": null,
   "id": "ea836b93-0e4c-4e62-b844-d446b4fc0efe",
   "metadata": {
    "scrolled": true
   },
   "outputs": [],
   "source": [
    "plt.title('Average traffic volume by hour')\n",
    "plt.xlabel('Hour of the day')\n",
    "plt.ylabel('Average traffic volume')\n",
    "plt.grid(True)\n",
    "plt.show()"
   ]
  },
  {
   "cell_type": "code",
   "execution_count": null,
   "id": "972c6b23-d0f8-4561-8451-5ef101a974aa",
   "metadata": {
    "scrolled": true
   },
   "outputs": [],
   "source": [
    "plt.figure(figsize=(10, 8))\n",
    "plt.hist(df['Traffic Volume'], bins=25, color='pink', edgecolor='red')\n",
    "plt.title('Traffic Volume Distribution')\n",
    "plt.xlabel('Traffic Volume')\n",
    "plt.ylabel('Frequency')\n",
    "plt.grid(False)\n",
    "plt.show()"
   ]
  },
  {
   "cell_type": "code",
   "execution_count": null,
   "id": "b963bff6-cfed-4809-9e67-c5906c929c0b",
   "metadata": {
    "scrolled": true
   },
   "outputs": [],
   "source": [
    "plt.savefig('Traffic_Volume_Distribution.png')\n",
    "plt.show()"
   ]
  },
  {
   "cell_type": "code",
   "execution_count": 36,
   "id": "6c0364cb-f9ed-4c9e-a492-c1dd608430e2",
   "metadata": {},
   "outputs": [],
   "source": [
    "import pandas as pd\n",
    "import random\n",
    "df = pd.read_csv('my_updated_traffic_data_hour.csv')\n",
    "def random_time():\n",
    "    hour = random.randint(0,23)\n",
    "    minute = random.randint(0,59)\n",
    "    second = random.randint(0,59)\n",
    "    return f'{hour:02d}:{minute:02d}:{second:02d}'\n",
    "df['random_time'] = [random_time() for _ in range(len(df))]\n",
    "df['datetime'] = df['Date'] +' '+ df['random_time']\n",
    "df.to_csv('traffic_with_random_time.csv', index=False)"
   ]
  },
  {
   "cell_type": "code",
   "execution_count": null,
   "id": "a10d5177-bb03-49ae-bce1-f50964ea954a",
   "metadata": {},
   "outputs": [],
   "source": [
    "import pandas as pd\n",
    "df = pd.read_csv('traffic_with_random_hour.csv')\n",
    "import matplotlib.pyplot as plt\n",
    "traffic_by_hour = df.groupby('Hour')['Traffic Volume'].mean()\n",
    "\n",
    "plt.figure(figsize=(8,6))\n",
    "\n",
    "plt.plot(traffic_by_hour.index, traffic_by_hour.values, marker='o', color='blue')\n",
    "plt.title('Average Traffic Volume by Hour')\n",
    "plt.xlabel('Hour of the day')\n",
    "plt.ylabel('Average traffic volume')\n",
    "plt.grid(False)\n",
    "plt.show()"
   ]
  },
  {
   "cell_type": "code",
   "execution_count": null,
   "id": "5fbc6db6-882d-464e-b11b-a8411d85b925",
   "metadata": {
    "scrolled": true
   },
   "outputs": [],
   "source": [
    "import pandas as pd\n",
    "df = pd.read_csv('traffic_with_random_hour.csv')\n",
    "df.groupby('Road Name')['Average Speed'].mean().sort_values(ascending=False)\n",
    "df.groupby('Road Name')['Travel Time Index'].mean().sort_values()\n",
    "import seaborn as sns\n",
    "import matplotlib.pyplot as plt\n",
    "plt.figure(figsize=(10,6))\n",
    "sns.lineplot(data=df, x = 'Hour', y = 'Average Speed', hue = 'Road Name')\n",
    "plt.title(\"Spead Trend by Road over Time\")\n",
    "plt.grid(True)\n",
    "plt.show()"
   ]
  },
  {
   "cell_type": "code",
   "execution_count": null,
   "id": "eb151b18-6277-44bb-a590-1681b73d3812",
   "metadata": {},
   "outputs": [],
   "source": [
    "best_road = df[df['Hour'] == 8].groupby('Road Name')['Travel Time Index'].mean().sort_values()\n",
    "print(best_road)\n"
   ]
  },
  {
   "cell_type": "code",
   "execution_count": null,
   "id": "0d9d1865-13f8-4655-9906-b808e94e8bad",
   "metadata": {},
   "outputs": [],
   "source": []
  }
 ],
 "metadata": {
  "kernelspec": {
   "display_name": "Python 3 (ipykernel)",
   "language": "python",
   "name": "python3"
  },
  "language_info": {
   "codemirror_mode": {
    "name": "ipython",
    "version": 3
   },
   "file_extension": ".py",
   "mimetype": "text/x-python",
   "name": "python",
   "nbconvert_exporter": "python",
   "pygments_lexer": "ipython3",
   "version": "3.9.11"
  }
 },
 "nbformat": 4,
 "nbformat_minor": 5
}
